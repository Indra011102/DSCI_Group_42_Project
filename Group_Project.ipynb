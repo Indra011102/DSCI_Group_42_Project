{
 "cells": [
  {
   "cell_type": "markdown",
   "id": "781baaf5-9653-40b9-abcc-ca11164efee0",
   "metadata": {},
   "source": [
    "# TITLE"
   ]
  },
  {
   "cell_type": "markdown",
   "id": "bad0583c-f882-454d-a484-9f8b4738ee9c",
   "metadata": {},
   "source": [
    "# Introduction"
   ]
  },
  {
   "cell_type": "markdown",
   "id": "f70e9443-3e13-4d26-8231-87e453e6223d",
   "metadata": {},
   "source": [
    "blah blah blah"
   ]
  },
  {
   "cell_type": "markdown",
   "id": "0ca7ea55-65a4-47c7-967b-48f2e91c73f3",
   "metadata": {},
   "source": [
    "# Methods\n",
    "\n",
    "**Loading Libraries**"
   ]
  },
  {
   "cell_type": "code",
   "execution_count": 1,
   "id": "0f706861-e808-436a-b62e-f4817b70e078",
   "metadata": {},
   "outputs": [
    {
     "name": "stderr",
     "output_type": "stream",
     "text": [
      "── \u001b[1mAttaching packages\u001b[22m ─────────────────────────────────────── tidyverse 1.3.1 ──\n",
      "\n",
      "\u001b[32m✔\u001b[39m \u001b[34mggplot2\u001b[39m 3.3.6     \u001b[32m✔\u001b[39m \u001b[34mpurrr  \u001b[39m 0.3.4\n",
      "\u001b[32m✔\u001b[39m \u001b[34mtibble \u001b[39m 3.1.7     \u001b[32m✔\u001b[39m \u001b[34mdplyr  \u001b[39m 1.0.9\n",
      "\u001b[32m✔\u001b[39m \u001b[34mtidyr  \u001b[39m 1.2.0     \u001b[32m✔\u001b[39m \u001b[34mstringr\u001b[39m 1.4.0\n",
      "\u001b[32m✔\u001b[39m \u001b[34mreadr  \u001b[39m 2.1.2     \u001b[32m✔\u001b[39m \u001b[34mforcats\u001b[39m 0.5.1\n",
      "\n",
      "── \u001b[1mConflicts\u001b[22m ────────────────────────────────────────── tidyverse_conflicts() ──\n",
      "\u001b[31m✖\u001b[39m \u001b[34mdplyr\u001b[39m::\u001b[32mfilter()\u001b[39m masks \u001b[34mstats\u001b[39m::filter()\n",
      "\u001b[31m✖\u001b[39m \u001b[34mdplyr\u001b[39m::\u001b[32mlag()\u001b[39m    masks \u001b[34mstats\u001b[39m::lag()\n",
      "\n",
      "── \u001b[1mAttaching packages\u001b[22m ────────────────────────────────────── tidymodels 1.0.0 ──\n",
      "\n",
      "\u001b[32m✔\u001b[39m \u001b[34mbroom       \u001b[39m 1.0.0     \u001b[32m✔\u001b[39m \u001b[34mrsample     \u001b[39m 1.0.0\n",
      "\u001b[32m✔\u001b[39m \u001b[34mdials       \u001b[39m 1.0.0     \u001b[32m✔\u001b[39m \u001b[34mtune        \u001b[39m 1.0.0\n",
      "\u001b[32m✔\u001b[39m \u001b[34minfer       \u001b[39m 1.0.2     \u001b[32m✔\u001b[39m \u001b[34mworkflows   \u001b[39m 1.0.0\n",
      "\u001b[32m✔\u001b[39m \u001b[34mmodeldata   \u001b[39m 1.0.0     \u001b[32m✔\u001b[39m \u001b[34mworkflowsets\u001b[39m 1.0.0\n",
      "\u001b[32m✔\u001b[39m \u001b[34mparsnip     \u001b[39m 1.0.0     \u001b[32m✔\u001b[39m \u001b[34myardstick   \u001b[39m 1.0.0\n",
      "\u001b[32m✔\u001b[39m \u001b[34mrecipes     \u001b[39m 1.0.1     \n",
      "\n",
      "── \u001b[1mConflicts\u001b[22m ───────────────────────────────────────── tidymodels_conflicts() ──\n",
      "\u001b[31m✖\u001b[39m \u001b[34mscales\u001b[39m::\u001b[32mdiscard()\u001b[39m masks \u001b[34mpurrr\u001b[39m::discard()\n",
      "\u001b[31m✖\u001b[39m \u001b[34mdplyr\u001b[39m::\u001b[32mfilter()\u001b[39m   masks \u001b[34mstats\u001b[39m::filter()\n",
      "\u001b[31m✖\u001b[39m \u001b[34mrecipes\u001b[39m::\u001b[32mfixed()\u001b[39m  masks \u001b[34mstringr\u001b[39m::fixed()\n",
      "\u001b[31m✖\u001b[39m \u001b[34mdplyr\u001b[39m::\u001b[32mlag()\u001b[39m      masks \u001b[34mstats\u001b[39m::lag()\n",
      "\u001b[31m✖\u001b[39m \u001b[34myardstick\u001b[39m::\u001b[32mspec()\u001b[39m masks \u001b[34mreadr\u001b[39m::spec()\n",
      "\u001b[31m✖\u001b[39m \u001b[34mrecipes\u001b[39m::\u001b[32mstep()\u001b[39m   masks \u001b[34mstats\u001b[39m::step()\n",
      "\u001b[34m•\u001b[39m Use \u001b[32mtidymodels_prefer()\u001b[39m to resolve common conflicts.\n",
      "\n"
     ]
    }
   ],
   "source": [
    "library(tidyverse)\n",
    "library(tidymodels)\n",
    "library(digest)\n",
    "library(repr)"
   ]
  },
  {
   "cell_type": "markdown",
   "id": "2074c1dc-24e1-4d98-b5c3-1944dda09685",
   "metadata": {},
   "source": [
    "**Uploading Data and Tidying**"
   ]
  },
  {
   "cell_type": "code",
   "execution_count": 2,
   "id": "c9d5bbc6-0653-40c2-9315-08bb3d0d2285",
   "metadata": {},
   "outputs": [
    {
     "name": "stderr",
     "output_type": "stream",
     "text": [
      "\u001b[1mRows: \u001b[22m\u001b[34m303\u001b[39m \u001b[1mColumns: \u001b[22m\u001b[34m14\u001b[39m\n",
      "\u001b[36m──\u001b[39m \u001b[1mColumn specification\u001b[22m \u001b[36m────────────────────────────────────────────────────────\u001b[39m\n",
      "\u001b[1mDelimiter:\u001b[22m \",\"\n",
      "\u001b[31mchr\u001b[39m  (2): X12, X13\n",
      "\u001b[32mdbl\u001b[39m (12): X1, X2, X3, X4, X5, X6, X7, X8, X9, X10, X11, X14\n",
      "\n",
      "\u001b[36mℹ\u001b[39m Use `spec()` to retrieve the full column specification for this data.\n",
      "\u001b[36mℹ\u001b[39m Specify the column types or set `show_col_types = FALSE` to quiet this message.\n"
     ]
    },
    {
     "data": {
      "text/html": [
       "<table class=\"dataframe\">\n",
       "<caption>A tibble: 6 × 14</caption>\n",
       "<thead>\n",
       "\t<tr><th scope=col>X1</th><th scope=col>X2</th><th scope=col>X3</th><th scope=col>X4</th><th scope=col>X5</th><th scope=col>X6</th><th scope=col>X7</th><th scope=col>X8</th><th scope=col>X9</th><th scope=col>X10</th><th scope=col>X11</th><th scope=col>X12</th><th scope=col>X13</th><th scope=col>X14</th></tr>\n",
       "\t<tr><th scope=col>&lt;dbl&gt;</th><th scope=col>&lt;dbl&gt;</th><th scope=col>&lt;dbl&gt;</th><th scope=col>&lt;dbl&gt;</th><th scope=col>&lt;dbl&gt;</th><th scope=col>&lt;dbl&gt;</th><th scope=col>&lt;dbl&gt;</th><th scope=col>&lt;dbl&gt;</th><th scope=col>&lt;dbl&gt;</th><th scope=col>&lt;dbl&gt;</th><th scope=col>&lt;dbl&gt;</th><th scope=col>&lt;chr&gt;</th><th scope=col>&lt;chr&gt;</th><th scope=col>&lt;dbl&gt;</th></tr>\n",
       "</thead>\n",
       "<tbody>\n",
       "\t<tr><td>63</td><td>1</td><td>1</td><td>145</td><td>233</td><td>1</td><td>2</td><td>150</td><td>0</td><td>2.3</td><td>3</td><td>0.0</td><td>6.0</td><td>0</td></tr>\n",
       "\t<tr><td>67</td><td>1</td><td>4</td><td>160</td><td>286</td><td>0</td><td>2</td><td>108</td><td>1</td><td>1.5</td><td>2</td><td>3.0</td><td>3.0</td><td>2</td></tr>\n",
       "\t<tr><td>67</td><td>1</td><td>4</td><td>120</td><td>229</td><td>0</td><td>2</td><td>129</td><td>1</td><td>2.6</td><td>2</td><td>2.0</td><td>7.0</td><td>1</td></tr>\n",
       "\t<tr><td>37</td><td>1</td><td>3</td><td>130</td><td>250</td><td>0</td><td>0</td><td>187</td><td>0</td><td>3.5</td><td>3</td><td>0.0</td><td>3.0</td><td>0</td></tr>\n",
       "\t<tr><td>41</td><td>0</td><td>2</td><td>130</td><td>204</td><td>0</td><td>2</td><td>172</td><td>0</td><td>1.4</td><td>1</td><td>0.0</td><td>3.0</td><td>0</td></tr>\n",
       "\t<tr><td>56</td><td>1</td><td>2</td><td>120</td><td>236</td><td>0</td><td>0</td><td>178</td><td>0</td><td>0.8</td><td>1</td><td>0.0</td><td>3.0</td><td>0</td></tr>\n",
       "</tbody>\n",
       "</table>\n"
      ],
      "text/latex": [
       "A tibble: 6 × 14\n",
       "\\begin{tabular}{llllllllllllll}\n",
       " X1 & X2 & X3 & X4 & X5 & X6 & X7 & X8 & X9 & X10 & X11 & X12 & X13 & X14\\\\\n",
       " <dbl> & <dbl> & <dbl> & <dbl> & <dbl> & <dbl> & <dbl> & <dbl> & <dbl> & <dbl> & <dbl> & <chr> & <chr> & <dbl>\\\\\n",
       "\\hline\n",
       "\t 63 & 1 & 1 & 145 & 233 & 1 & 2 & 150 & 0 & 2.3 & 3 & 0.0 & 6.0 & 0\\\\\n",
       "\t 67 & 1 & 4 & 160 & 286 & 0 & 2 & 108 & 1 & 1.5 & 2 & 3.0 & 3.0 & 2\\\\\n",
       "\t 67 & 1 & 4 & 120 & 229 & 0 & 2 & 129 & 1 & 2.6 & 2 & 2.0 & 7.0 & 1\\\\\n",
       "\t 37 & 1 & 3 & 130 & 250 & 0 & 0 & 187 & 0 & 3.5 & 3 & 0.0 & 3.0 & 0\\\\\n",
       "\t 41 & 0 & 2 & 130 & 204 & 0 & 2 & 172 & 0 & 1.4 & 1 & 0.0 & 3.0 & 0\\\\\n",
       "\t 56 & 1 & 2 & 120 & 236 & 0 & 0 & 178 & 0 & 0.8 & 1 & 0.0 & 3.0 & 0\\\\\n",
       "\\end{tabular}\n"
      ],
      "text/markdown": [
       "\n",
       "A tibble: 6 × 14\n",
       "\n",
       "| X1 &lt;dbl&gt; | X2 &lt;dbl&gt; | X3 &lt;dbl&gt; | X4 &lt;dbl&gt; | X5 &lt;dbl&gt; | X6 &lt;dbl&gt; | X7 &lt;dbl&gt; | X8 &lt;dbl&gt; | X9 &lt;dbl&gt; | X10 &lt;dbl&gt; | X11 &lt;dbl&gt; | X12 &lt;chr&gt; | X13 &lt;chr&gt; | X14 &lt;dbl&gt; |\n",
       "|---|---|---|---|---|---|---|---|---|---|---|---|---|---|\n",
       "| 63 | 1 | 1 | 145 | 233 | 1 | 2 | 150 | 0 | 2.3 | 3 | 0.0 | 6.0 | 0 |\n",
       "| 67 | 1 | 4 | 160 | 286 | 0 | 2 | 108 | 1 | 1.5 | 2 | 3.0 | 3.0 | 2 |\n",
       "| 67 | 1 | 4 | 120 | 229 | 0 | 2 | 129 | 1 | 2.6 | 2 | 2.0 | 7.0 | 1 |\n",
       "| 37 | 1 | 3 | 130 | 250 | 0 | 0 | 187 | 0 | 3.5 | 3 | 0.0 | 3.0 | 0 |\n",
       "| 41 | 0 | 2 | 130 | 204 | 0 | 2 | 172 | 0 | 1.4 | 1 | 0.0 | 3.0 | 0 |\n",
       "| 56 | 1 | 2 | 120 | 236 | 0 | 0 | 178 | 0 | 0.8 | 1 | 0.0 | 3.0 | 0 |\n",
       "\n"
      ],
      "text/plain": [
       "  X1 X2 X3 X4  X5  X6 X7 X8  X9 X10 X11 X12 X13 X14\n",
       "1 63 1  1  145 233 1  2  150 0  2.3 3   0.0 6.0 0  \n",
       "2 67 1  4  160 286 0  2  108 1  1.5 2   3.0 3.0 2  \n",
       "3 67 1  4  120 229 0  2  129 1  2.6 2   2.0 7.0 1  \n",
       "4 37 1  3  130 250 0  0  187 0  3.5 3   0.0 3.0 0  \n",
       "5 41 0  2  130 204 0  2  172 0  1.4 1   0.0 3.0 0  \n",
       "6 56 1  2  120 236 0  0  178 0  0.8 1   0.0 3.0 0  "
      ]
     },
     "metadata": {},
     "output_type": "display_data"
    }
   ],
   "source": [
    "# the data was retreived from: \n",
    "data_link <- \"https://archive.ics.uci.edu/ml/machine-learning-databases/heart-disease/processed.cleveland.data\"\n",
    "data <- read_delim(data_link, ',', col_names = FALSE)\n",
    "\n",
    "head(data)"
   ]
  },
  {
   "cell_type": "code",
   "execution_count": 3,
   "id": "a3d50d8b-ceaa-4f48-9689-f9d109ebe4e9",
   "metadata": {},
   "outputs": [
    {
     "data": {
      "text/html": [
       "<table class=\"dataframe\">\n",
       "<caption>A tibble: 6 × 10</caption>\n",
       "<thead>\n",
       "\t<tr><th scope=col>age</th><th scope=col>sex</th><th scope=col>chest_pain_type</th><th scope=col>resting_bp</th><th scope=col>cholestrol</th><th scope=col>fasting_blood_sugar</th><th scope=col>rest_ecg</th><th scope=col>max_heart_rate</th><th scope=col>exercise_angina</th><th scope=col>hd_diagnosis</th></tr>\n",
       "\t<tr><th scope=col>&lt;dbl&gt;</th><th scope=col>&lt;dbl&gt;</th><th scope=col>&lt;dbl&gt;</th><th scope=col>&lt;dbl&gt;</th><th scope=col>&lt;dbl&gt;</th><th scope=col>&lt;dbl&gt;</th><th scope=col>&lt;dbl&gt;</th><th scope=col>&lt;dbl&gt;</th><th scope=col>&lt;dbl&gt;</th><th scope=col>&lt;dbl&gt;</th></tr>\n",
       "</thead>\n",
       "<tbody>\n",
       "\t<tr><td>63</td><td>1</td><td>1</td><td>145</td><td>233</td><td>1</td><td>2</td><td>150</td><td>0</td><td>0</td></tr>\n",
       "\t<tr><td>67</td><td>1</td><td>4</td><td>160</td><td>286</td><td>0</td><td>2</td><td>108</td><td>1</td><td>2</td></tr>\n",
       "\t<tr><td>67</td><td>1</td><td>4</td><td>120</td><td>229</td><td>0</td><td>2</td><td>129</td><td>1</td><td>1</td></tr>\n",
       "\t<tr><td>37</td><td>1</td><td>3</td><td>130</td><td>250</td><td>0</td><td>0</td><td>187</td><td>0</td><td>0</td></tr>\n",
       "\t<tr><td>41</td><td>0</td><td>2</td><td>130</td><td>204</td><td>0</td><td>2</td><td>172</td><td>0</td><td>0</td></tr>\n",
       "\t<tr><td>56</td><td>1</td><td>2</td><td>120</td><td>236</td><td>0</td><td>0</td><td>178</td><td>0</td><td>0</td></tr>\n",
       "</tbody>\n",
       "</table>\n"
      ],
      "text/latex": [
       "A tibble: 6 × 10\n",
       "\\begin{tabular}{llllllllll}\n",
       " age & sex & chest\\_pain\\_type & resting\\_bp & cholestrol & fasting\\_blood\\_sugar & rest\\_ecg & max\\_heart\\_rate & exercise\\_angina & hd\\_diagnosis\\\\\n",
       " <dbl> & <dbl> & <dbl> & <dbl> & <dbl> & <dbl> & <dbl> & <dbl> & <dbl> & <dbl>\\\\\n",
       "\\hline\n",
       "\t 63 & 1 & 1 & 145 & 233 & 1 & 2 & 150 & 0 & 0\\\\\n",
       "\t 67 & 1 & 4 & 160 & 286 & 0 & 2 & 108 & 1 & 2\\\\\n",
       "\t 67 & 1 & 4 & 120 & 229 & 0 & 2 & 129 & 1 & 1\\\\\n",
       "\t 37 & 1 & 3 & 130 & 250 & 0 & 0 & 187 & 0 & 0\\\\\n",
       "\t 41 & 0 & 2 & 130 & 204 & 0 & 2 & 172 & 0 & 0\\\\\n",
       "\t 56 & 1 & 2 & 120 & 236 & 0 & 0 & 178 & 0 & 0\\\\\n",
       "\\end{tabular}\n"
      ],
      "text/markdown": [
       "\n",
       "A tibble: 6 × 10\n",
       "\n",
       "| age &lt;dbl&gt; | sex &lt;dbl&gt; | chest_pain_type &lt;dbl&gt; | resting_bp &lt;dbl&gt; | cholestrol &lt;dbl&gt; | fasting_blood_sugar &lt;dbl&gt; | rest_ecg &lt;dbl&gt; | max_heart_rate &lt;dbl&gt; | exercise_angina &lt;dbl&gt; | hd_diagnosis &lt;dbl&gt; |\n",
       "|---|---|---|---|---|---|---|---|---|---|\n",
       "| 63 | 1 | 1 | 145 | 233 | 1 | 2 | 150 | 0 | 0 |\n",
       "| 67 | 1 | 4 | 160 | 286 | 0 | 2 | 108 | 1 | 2 |\n",
       "| 67 | 1 | 4 | 120 | 229 | 0 | 2 | 129 | 1 | 1 |\n",
       "| 37 | 1 | 3 | 130 | 250 | 0 | 0 | 187 | 0 | 0 |\n",
       "| 41 | 0 | 2 | 130 | 204 | 0 | 2 | 172 | 0 | 0 |\n",
       "| 56 | 1 | 2 | 120 | 236 | 0 | 0 | 178 | 0 | 0 |\n",
       "\n"
      ],
      "text/plain": [
       "  age sex chest_pain_type resting_bp cholestrol fasting_blood_sugar rest_ecg\n",
       "1 63  1   1               145        233        1                   2       \n",
       "2 67  1   4               160        286        0                   2       \n",
       "3 67  1   4               120        229        0                   2       \n",
       "4 37  1   3               130        250        0                   0       \n",
       "5 41  0   2               130        204        0                   2       \n",
       "6 56  1   2               120        236        0                   0       \n",
       "  max_heart_rate exercise_angina hd_diagnosis\n",
       "1 150            0               0           \n",
       "2 108            1               2           \n",
       "3 129            1               1           \n",
       "4 187            0               0           \n",
       "5 172            0               0           \n",
       "6 178            0               0           "
      ]
     },
     "metadata": {},
     "output_type": "display_data"
    }
   ],
   "source": [
    "# renaming the columns to their variable titles\n",
    "colnames(data)[1] <- \"age\"\n",
    "colnames(data)[2] <- \"sex\"\n",
    "colnames(data)[3] <- \"chest_pain_type\"\n",
    "colnames(data)[4] <- \"resting_bp\"\n",
    "colnames(data)[5] <- \"cholestrol\"\n",
    "colnames(data)[6] <- \"fasting_blood_sugar\"\n",
    "colnames(data)[7] <- \"rest_ecg\"\n",
    "colnames(data)[8] <- \"max_heart_rate\"\n",
    "colnames(data)[9] <- \"exercise_angina\"\n",
    "colnames(data)[14] <- \"hd_diagnosis\"\n",
    "\n",
    "# selecting variables that are of interest to our investigation\n",
    "data <- select(data, \n",
    "                     age,\n",
    "                     sex,\n",
    "                     chest_pain_type,\n",
    "                     resting_bp,\n",
    "                     cholestrol,\n",
    "                     fasting_blood_sugar, \n",
    "                     rest_ecg,\n",
    "                     max_heart_rate,\n",
    "                     exercise_angina,\n",
    "                     hd_diagnosis)\n",
    "\n",
    "head(data)"
   ]
  },
  {
   "cell_type": "markdown",
   "id": "f778dc5f-19c6-4724-ac42-07e542bb626c",
   "metadata": {},
   "source": [
    "**Set Seed (will not be changed nor shown after this)**"
   ]
  },
  {
   "cell_type": "code",
   "execution_count": 4,
   "id": "303e6b83-3034-4cbb-9086-d39df2fc5157",
   "metadata": {},
   "outputs": [],
   "source": [
    "set.seed(2000) ### DO NOT CHANGE!"
   ]
  },
  {
   "cell_type": "markdown",
   "id": "ad4214d5-9c81-435a-816b-29d196b55976",
   "metadata": {},
   "source": [
    "**Split our dataset to Training and Testing data**"
   ]
  },
  {
   "cell_type": "code",
   "execution_count": 5,
   "id": "b71e6f02-599a-4889-8642-fec9b7330d09",
   "metadata": {},
   "outputs": [
    {
     "data": {
      "text/plain": [
       "<Training/Testing/Total>\n",
       "<227/76/303>"
      ]
     },
     "metadata": {},
     "output_type": "display_data"
    }
   ],
   "source": [
    "cleveland_split <- initial_split(data, prop=0.75, stata=resting_bp)\n",
    "cleveland_training <- training(cleveland_split)\n",
    "cleveland_testing <- testing(cleveland_split)\n",
    "cleveland_split"
   ]
  },
  {
   "cell_type": "code",
   "execution_count": 6,
   "id": "04fa5449-dd77-4494-bbd8-2cd28c6394a1",
   "metadata": {},
   "outputs": [
    {
     "data": {
      "text/html": [
       "'Number of null values: 0'"
      ],
      "text/latex": [
       "'Number of null values: 0'"
      ],
      "text/markdown": [
       "'Number of null values: 0'"
      ],
      "text/plain": [
       "[1] \"Number of null values: 0\""
      ]
     },
     "metadata": {},
     "output_type": "display_data"
    },
    {
     "data": {
      "text/html": [
       "'Number of N/A values: 0'"
      ],
      "text/latex": [
       "'Number of N/A values: 0'"
      ],
      "text/markdown": [
       "'Number of N/A values: 0'"
      ],
      "text/plain": [
       "[1] \"Number of N/A values: 0\""
      ]
     },
     "metadata": {},
     "output_type": "display_data"
    }
   ],
   "source": [
    "#checking for null/na data in the training data\n",
    "paste(\"Number of null values:\", sum(map_df(cleveland_training, is.null)))\n",
    "paste(\"Number of N/A values:\", sum(map_df(cleveland_training, is.na)))"
   ]
  },
  {
   "cell_type": "markdown",
   "id": "59bb4302-a84c-401d-82e7-49125ed7277f",
   "metadata": {},
   "source": [
    "**Initial Assessment**"
   ]
  },
  {
   "cell_type": "code",
   "execution_count": 7,
   "id": "0b860def-557a-48c3-a351-ad59d0642156",
   "metadata": {},
   "outputs": [
    {
     "data": {
      "image/png": "[encoded data removed]",
      "text/plain": [
       "plot without title"
      ]
     },
     "metadata": {
      "image/png": {
       "height": 420,
       "width": 420
      }
     },
     "output_type": "display_data"
    }
   ],
   "source": [
    "cleveland_plot <- cleveland_training |>\n",
    "    ggplot(aes(x=cholestrol, y=resting_bp)) +\n",
    "    geom_point() +\n",
    "    labs(x=\"Cholestrol Level (mg/dL)\", y=\"Resting Blood Pressure (mmHg)\") + \n",
    "    scale_x_log10() +\n",
    "    theme(text = element_text(size=20))\n",
    "\n",
    "cleveland_plot"
   ]
  },
  {
   "cell_type": "markdown",
   "id": "01617339-c514-4682-b68d-07fefd2ac530",
   "metadata": {},
   "source": [
    "Initial analysis and assessment here"
   ]
  },
  {
   "cell_type": "markdown",
   "id": "7179ee37-6102-4e56-bba6-18cf450bb38a",
   "metadata": {},
   "source": [
    "**Model Specification**"
   ]
  },
  {
   "cell_type": "markdown",
   "id": "f4ec009c-2b8e-4edb-a2ec-8a12bc23dccd",
   "metadata": {},
   "source": [
    "explanation/discussion"
   ]
  },
  {
   "cell_type": "code",
   "execution_count": 8,
   "id": "bb011c19-ee0c-47eb-9dca-39e04b14370f",
   "metadata": {},
   "outputs": [],
   "source": [
    "#CODE HERE"
   ]
  },
  {
   "cell_type": "markdown",
   "id": "029a31c1-92a7-4a7e-872f-c4cabae765ad",
   "metadata": {},
   "source": [
    "**Cross-Validation of Training Data with 5 folds**"
   ]
  },
  {
   "cell_type": "markdown",
   "id": "381c59dc-6482-4be0-ac5a-d716ad2ce7d8",
   "metadata": {},
   "source": [
    "explanation"
   ]
  },
  {
   "cell_type": "code",
   "execution_count": 9,
   "id": "9675fc34-8ade-4e93-bc7e-cc7d14797c57",
   "metadata": {},
   "outputs": [],
   "source": [
    "#CODE HERE"
   ]
  },
  {
   "cell_type": "markdown",
   "id": "5896e728-fbc2-43bb-a0a1-5d5af5c33111",
   "metadata": {},
   "source": [
    "**Tuning the Workflow**"
   ]
  },
  {
   "cell_type": "markdown",
   "id": "cb2befd6-0503-406a-93ce-838a5a594f56",
   "metadata": {},
   "source": [
    "explanation"
   ]
  },
  {
   "cell_type": "code",
   "execution_count": 10,
   "id": "6cc7f7a4-07b3-4d6a-a0e6-0bd8f3a8bd2e",
   "metadata": {},
   "outputs": [],
   "source": [
    "#CODE HERE (gridvals, etc.)"
   ]
  },
  {
   "cell_type": "markdown",
   "id": "aadb2047-b442-476a-8597-2ca091855913",
   "metadata": {},
   "source": [
    "**Determining the Minimum RMSPE**"
   ]
  },
  {
   "cell_type": "markdown",
   "id": "c5b62c3d-dc82-4f74-9b2c-b5572e25e1b4",
   "metadata": {},
   "source": [
    "explanation"
   ]
  },
  {
   "cell_type": "code",
   "execution_count": 11,
   "id": "4185cdef-481c-4a52-b35f-b1076e3a1a6b",
   "metadata": {},
   "outputs": [],
   "source": [
    "#CODE HERE"
   ]
  },
  {
   "cell_type": "markdown",
   "id": "c6daf10f-3424-432e-837c-6d1d2328d258",
   "metadata": {},
   "source": [
    "**Evaluating on our Testing Dataset**"
   ]
  },
  {
   "cell_type": "markdown",
   "id": "829449aa-e9ec-4640-869c-e011f670d569",
   "metadata": {},
   "source": [
    "explanantion"
   ]
  },
  {
   "cell_type": "code",
   "execution_count": 12,
   "id": "41ab89a8-15f0-4634-8f7a-8096615232e7",
   "metadata": {},
   "outputs": [],
   "source": [
    "#CODE HERE"
   ]
  },
  {
   "cell_type": "markdown",
   "id": "5821e81a-197c-412e-a0fc-2898bac644d8",
   "metadata": {},
   "source": [
    "# Results"
   ]
  },
  {
   "cell_type": "code",
   "execution_count": null,
   "id": "bbc74f4a-920a-44e0-934b-53ed5e40943c",
   "metadata": {},
   "outputs": [],
   "source": []
  },
  {
   "cell_type": "code",
   "execution_count": 13,
   "id": "2e571d8c-57c3-47ec-846d-4035d395614c",
   "metadata": {},
   "outputs": [],
   "source": [
    "#CODE HERE (plot our final graph?) "
   ]
  },
  {
   "cell_type": "markdown",
   "id": "6c6dc083-4821-4ff5-ab15-824207daacc6",
   "metadata": {},
   "source": [
    "# Discussion"
   ]
  },
  {
   "cell_type": "markdown",
   "id": "02808e77-e741-4bb3-b106-703e247157b9",
   "metadata": {},
   "source": [
    "explanation"
   ]
  }
 ],
 "metadata": {
  "kernelspec": {
   "display_name": "R",
   "language": "R",
   "name": "ir"
  },
  "language_info": {
   "codemirror_mode": "r",
   "file_extension": ".r",
   "mimetype": "text/x-r-source",
   "name": "R",
   "pygments_lexer": "r",
   "version": "4.1.3"
  }
 },
 "nbformat": 4,
 "nbformat_minor": 5
}
