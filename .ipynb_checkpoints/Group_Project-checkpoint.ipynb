{
 "cells": [
  {
   "cell_type": "markdown",
   "id": "781baaf5-9653-40b9-abcc-ca11164efee0",
   "metadata": {},
   "source": [
    "# TITLE"
   ]
  },
  {
   "cell_type": "markdown",
   "id": "bad0583c-f882-454d-a484-9f8b4738ee9c",
   "metadata": {},
   "source": [
    "# Introduction"
   ]
  },
  {
   "cell_type": "markdown",
   "id": "f70e9443-3e13-4d26-8231-87e453e6223d",
   "metadata": {},
   "source": [
    "blah blah blah blah"
   ]
  },
  {
   "cell_type": "markdown",
   "id": "0ca7ea55-65a4-47c7-967b-48f2e91c73f3",
   "metadata": {},
   "source": [
    "# Methods\n",
    "\n",
    "**Loading Libraries**"
   ]
  },
  {
   "cell_type": "code",
   "execution_count": 1,
   "id": "0f706861-e808-436a-b62e-f4817b70e078",
   "metadata": {},
   "outputs": [
    {
     "name": "stderr",
     "output_type": "stream",
     "text": [
      "── \u001b[1mAttaching packages\u001b[22m ─────────────────────────────────────── tidyverse 1.3.1 ──\n",
      "\n",
      "\u001b[32m✔\u001b[39m \u001b[34mggplot2\u001b[39m 3.3.6     \u001b[32m✔\u001b[39m \u001b[34mpurrr  \u001b[39m 0.3.4\n",
      "\u001b[32m✔\u001b[39m \u001b[34mtibble \u001b[39m 3.1.7     \u001b[32m✔\u001b[39m \u001b[34mdplyr  \u001b[39m 1.0.9\n",
      "\u001b[32m✔\u001b[39m \u001b[34mtidyr  \u001b[39m 1.2.0     \u001b[32m✔\u001b[39m \u001b[34mstringr\u001b[39m 1.4.0\n",
      "\u001b[32m✔\u001b[39m \u001b[34mreadr  \u001b[39m 2.1.2     \u001b[32m✔\u001b[39m \u001b[34mforcats\u001b[39m 0.5.1\n",
      "\n",
      "── \u001b[1mConflicts\u001b[22m ────────────────────────────────────────── tidyverse_conflicts() ──\n",
      "\u001b[31m✖\u001b[39m \u001b[34mdplyr\u001b[39m::\u001b[32mfilter()\u001b[39m masks \u001b[34mstats\u001b[39m::filter()\n",
      "\u001b[31m✖\u001b[39m \u001b[34mdplyr\u001b[39m::\u001b[32mlag()\u001b[39m    masks \u001b[34mstats\u001b[39m::lag()\n",
      "\n",
      "── \u001b[1mAttaching packages\u001b[22m ────────────────────────────────────── tidymodels 1.0.0 ──\n",
      "\n",
      "\u001b[32m✔\u001b[39m \u001b[34mbroom       \u001b[39m 1.0.0     \u001b[32m✔\u001b[39m \u001b[34mrsample     \u001b[39m 1.0.0\n",
      "\u001b[32m✔\u001b[39m \u001b[34mdials       \u001b[39m 1.0.0     \u001b[32m✔\u001b[39m \u001b[34mtune        \u001b[39m 1.0.0\n",
      "\u001b[32m✔\u001b[39m \u001b[34minfer       \u001b[39m 1.0.2     \u001b[32m✔\u001b[39m \u001b[34mworkflows   \u001b[39m 1.0.0\n",
      "\u001b[32m✔\u001b[39m \u001b[34mmodeldata   \u001b[39m 1.0.0     \u001b[32m✔\u001b[39m \u001b[34mworkflowsets\u001b[39m 1.0.0\n",
      "\u001b[32m✔\u001b[39m \u001b[34mparsnip     \u001b[39m 1.0.0     \u001b[32m✔\u001b[39m \u001b[34myardstick   \u001b[39m 1.0.0\n",
      "\u001b[32m✔\u001b[39m \u001b[34mrecipes     \u001b[39m 1.0.1     \n",
      "\n",
      "── \u001b[1mConflicts\u001b[22m ───────────────────────────────────────── tidymodels_conflicts() ──\n",
      "\u001b[31m✖\u001b[39m \u001b[34mscales\u001b[39m::\u001b[32mdiscard()\u001b[39m masks \u001b[34mpurrr\u001b[39m::discard()\n",
      "\u001b[31m✖\u001b[39m \u001b[34mdplyr\u001b[39m::\u001b[32mfilter()\u001b[39m   masks \u001b[34mstats\u001b[39m::filter()\n",
      "\u001b[31m✖\u001b[39m \u001b[34mrecipes\u001b[39m::\u001b[32mfixed()\u001b[39m  masks \u001b[34mstringr\u001b[39m::fixed()\n",
      "\u001b[31m✖\u001b[39m \u001b[34mdplyr\u001b[39m::\u001b[32mlag()\u001b[39m      masks \u001b[34mstats\u001b[39m::lag()\n",
      "\u001b[31m✖\u001b[39m \u001b[34myardstick\u001b[39m::\u001b[32mspec()\u001b[39m masks \u001b[34mreadr\u001b[39m::spec()\n",
      "\u001b[31m✖\u001b[39m \u001b[34mrecipes\u001b[39m::\u001b[32mstep()\u001b[39m   masks \u001b[34mstats\u001b[39m::step()\n",
      "\u001b[34m•\u001b[39m Search for functions across packages at \u001b[32mhttps://www.tidymodels.org/find/\u001b[39m\n",
      "\n"
     ]
    }
   ],
   "source": [
    "library(tidyverse)\n",
    "library(tidymodels)\n",
    "library(digest)\n",
    "library(repr)\n",
    "library(infer)\n",
    "library(cowplot)"
   ]
  },
  {
   "cell_type": "markdown",
   "id": "2074c1dc-24e1-4d98-b5c3-1944dda09685",
   "metadata": {},
   "source": [
    "**Uploading Data and Tidying**"
   ]
  },
  {
   "cell_type": "code",
   "execution_count": 2,
   "id": "c9d5bbc6-0653-40c2-9315-08bb3d0d2285",
   "metadata": {},
   "outputs": [
    {
     "name": "stderr",
     "output_type": "stream",
     "text": [
      "\u001b[1mRows: \u001b[22m\u001b[34m303\u001b[39m \u001b[1mColumns: \u001b[22m\u001b[34m14\u001b[39m\n",
      "\u001b[36m──\u001b[39m \u001b[1mColumn specification\u001b[22m \u001b[36m────────────────────────────────────────────────────────\u001b[39m\n",
      "\u001b[1mDelimiter:\u001b[22m \",\"\n",
      "\u001b[31mchr\u001b[39m  (2): X12, X13\n",
      "\u001b[32mdbl\u001b[39m (12): X1, X2, X3, X4, X5, X6, X7, X8, X9, X10, X11, X14\n",
      "\n",
      "\u001b[36mℹ\u001b[39m Use `spec()` to retrieve the full column specification for this data.\n",
      "\u001b[36mℹ\u001b[39m Specify the column types or set `show_col_types = FALSE` to quiet this message.\n"
     ]
    },
    {
     "data": {
      "text/html": [
       "<table class=\"dataframe\">\n",
       "<caption>A tibble: 6 × 14</caption>\n",
       "<thead>\n",
       "\t<tr><th scope=col>X1</th><th scope=col>X2</th><th scope=col>X3</th><th scope=col>X4</th><th scope=col>X5</th><th scope=col>X6</th><th scope=col>X7</th><th scope=col>X8</th><th scope=col>X9</th><th scope=col>X10</th><th scope=col>X11</th><th scope=col>X12</th><th scope=col>X13</th><th scope=col>X14</th></tr>\n",
       "\t<tr><th scope=col>&lt;dbl&gt;</th><th scope=col>&lt;dbl&gt;</th><th scope=col>&lt;dbl&gt;</th><th scope=col>&lt;dbl&gt;</th><th scope=col>&lt;dbl&gt;</th><th scope=col>&lt;dbl&gt;</th><th scope=col>&lt;dbl&gt;</th><th scope=col>&lt;dbl&gt;</th><th scope=col>&lt;dbl&gt;</th><th scope=col>&lt;dbl&gt;</th><th scope=col>&lt;dbl&gt;</th><th scope=col>&lt;chr&gt;</th><th scope=col>&lt;chr&gt;</th><th scope=col>&lt;dbl&gt;</th></tr>\n",
       "</thead>\n",
       "<tbody>\n",
       "\t<tr><td>63</td><td>1</td><td>1</td><td>145</td><td>233</td><td>1</td><td>2</td><td>150</td><td>0</td><td>2.3</td><td>3</td><td>0.0</td><td>6.0</td><td>0</td></tr>\n",
       "\t<tr><td>67</td><td>1</td><td>4</td><td>160</td><td>286</td><td>0</td><td>2</td><td>108</td><td>1</td><td>1.5</td><td>2</td><td>3.0</td><td>3.0</td><td>2</td></tr>\n",
       "\t<tr><td>67</td><td>1</td><td>4</td><td>120</td><td>229</td><td>0</td><td>2</td><td>129</td><td>1</td><td>2.6</td><td>2</td><td>2.0</td><td>7.0</td><td>1</td></tr>\n",
       "\t<tr><td>37</td><td>1</td><td>3</td><td>130</td><td>250</td><td>0</td><td>0</td><td>187</td><td>0</td><td>3.5</td><td>3</td><td>0.0</td><td>3.0</td><td>0</td></tr>\n",
       "\t<tr><td>41</td><td>0</td><td>2</td><td>130</td><td>204</td><td>0</td><td>2</td><td>172</td><td>0</td><td>1.4</td><td>1</td><td>0.0</td><td>3.0</td><td>0</td></tr>\n",
       "\t<tr><td>56</td><td>1</td><td>2</td><td>120</td><td>236</td><td>0</td><td>0</td><td>178</td><td>0</td><td>0.8</td><td>1</td><td>0.0</td><td>3.0</td><td>0</td></tr>\n",
       "</tbody>\n",
       "</table>\n"
      ],
      "text/latex": [
       "A tibble: 6 × 14\n",
       "\\begin{tabular}{llllllllllllll}\n",
       " X1 & X2 & X3 & X4 & X5 & X6 & X7 & X8 & X9 & X10 & X11 & X12 & X13 & X14\\\\\n",
       " <dbl> & <dbl> & <dbl> & <dbl> & <dbl> & <dbl> & <dbl> & <dbl> & <dbl> & <dbl> & <dbl> & <chr> & <chr> & <dbl>\\\\\n",
       "\\hline\n",
       "\t 63 & 1 & 1 & 145 & 233 & 1 & 2 & 150 & 0 & 2.3 & 3 & 0.0 & 6.0 & 0\\\\\n",
       "\t 67 & 1 & 4 & 160 & 286 & 0 & 2 & 108 & 1 & 1.5 & 2 & 3.0 & 3.0 & 2\\\\\n",
       "\t 67 & 1 & 4 & 120 & 229 & 0 & 2 & 129 & 1 & 2.6 & 2 & 2.0 & 7.0 & 1\\\\\n",
       "\t 37 & 1 & 3 & 130 & 250 & 0 & 0 & 187 & 0 & 3.5 & 3 & 0.0 & 3.0 & 0\\\\\n",
       "\t 41 & 0 & 2 & 130 & 204 & 0 & 2 & 172 & 0 & 1.4 & 1 & 0.0 & 3.0 & 0\\\\\n",
       "\t 56 & 1 & 2 & 120 & 236 & 0 & 0 & 178 & 0 & 0.8 & 1 & 0.0 & 3.0 & 0\\\\\n",
       "\\end{tabular}\n"
      ],
      "text/markdown": [
       "\n",
       "A tibble: 6 × 14\n",
       "\n",
       "| X1 &lt;dbl&gt; | X2 &lt;dbl&gt; | X3 &lt;dbl&gt; | X4 &lt;dbl&gt; | X5 &lt;dbl&gt; | X6 &lt;dbl&gt; | X7 &lt;dbl&gt; | X8 &lt;dbl&gt; | X9 &lt;dbl&gt; | X10 &lt;dbl&gt; | X11 &lt;dbl&gt; | X12 &lt;chr&gt; | X13 &lt;chr&gt; | X14 &lt;dbl&gt; |\n",
       "|---|---|---|---|---|---|---|---|---|---|---|---|---|---|\n",
       "| 63 | 1 | 1 | 145 | 233 | 1 | 2 | 150 | 0 | 2.3 | 3 | 0.0 | 6.0 | 0 |\n",
       "| 67 | 1 | 4 | 160 | 286 | 0 | 2 | 108 | 1 | 1.5 | 2 | 3.0 | 3.0 | 2 |\n",
       "| 67 | 1 | 4 | 120 | 229 | 0 | 2 | 129 | 1 | 2.6 | 2 | 2.0 | 7.0 | 1 |\n",
       "| 37 | 1 | 3 | 130 | 250 | 0 | 0 | 187 | 0 | 3.5 | 3 | 0.0 | 3.0 | 0 |\n",
       "| 41 | 0 | 2 | 130 | 204 | 0 | 2 | 172 | 0 | 1.4 | 1 | 0.0 | 3.0 | 0 |\n",
       "| 56 | 1 | 2 | 120 | 236 | 0 | 0 | 178 | 0 | 0.8 | 1 | 0.0 | 3.0 | 0 |\n",
       "\n"
      ],
      "text/plain": [
       "  X1 X2 X3 X4  X5  X6 X7 X8  X9 X10 X11 X12 X13 X14\n",
       "1 63 1  1  145 233 1  2  150 0  2.3 3   0.0 6.0 0  \n",
       "2 67 1  4  160 286 0  2  108 1  1.5 2   3.0 3.0 2  \n",
       "3 67 1  4  120 229 0  2  129 1  2.6 2   2.0 7.0 1  \n",
       "4 37 1  3  130 250 0  0  187 0  3.5 3   0.0 3.0 0  \n",
       "5 41 0  2  130 204 0  2  172 0  1.4 1   0.0 3.0 0  \n",
       "6 56 1  2  120 236 0  0  178 0  0.8 1   0.0 3.0 0  "
      ]
     },
     "metadata": {},
     "output_type": "display_data"
    }
   ],
   "source": [
    "# the data was retreived from: \n",
    "data_link <- \"https://archive.ics.uci.edu/ml/machine-learning-databases/heart-disease/processed.cleveland.data\"\n",
    "data <- read_delim(data_link, ',', col_names = FALSE)\n",
    "\n",
    "head(data)"
   ]
  },
  {
   "cell_type": "code",
   "execution_count": 3,
   "id": "a3d50d8b-ceaa-4f48-9689-f9d109ebe4e9",
   "metadata": {},
   "outputs": [
    {
     "data": {
      "text/html": [
       "<table class=\"dataframe\">\n",
       "<caption>A tibble: 6 × 10</caption>\n",
       "<thead>\n",
       "\t<tr><th scope=col>age</th><th scope=col>sex</th><th scope=col>chest_pain_type</th><th scope=col>resting_bp</th><th scope=col>cholestrol</th><th scope=col>fasting_blood_sugar</th><th scope=col>rest_ecg</th><th scope=col>max_heart_rate</th><th scope=col>exercise_angina</th><th scope=col>hd_diagnosis</th></tr>\n",
       "\t<tr><th scope=col>&lt;dbl&gt;</th><th scope=col>&lt;dbl&gt;</th><th scope=col>&lt;dbl&gt;</th><th scope=col>&lt;dbl&gt;</th><th scope=col>&lt;dbl&gt;</th><th scope=col>&lt;dbl&gt;</th><th scope=col>&lt;dbl&gt;</th><th scope=col>&lt;dbl&gt;</th><th scope=col>&lt;dbl&gt;</th><th scope=col>&lt;dbl&gt;</th></tr>\n",
       "</thead>\n",
       "<tbody>\n",
       "\t<tr><td>63</td><td>1</td><td>1</td><td>145</td><td>233</td><td>1</td><td>2</td><td>150</td><td>0</td><td>0</td></tr>\n",
       "\t<tr><td>67</td><td>1</td><td>4</td><td>160</td><td>286</td><td>0</td><td>2</td><td>108</td><td>1</td><td>2</td></tr>\n",
       "\t<tr><td>67</td><td>1</td><td>4</td><td>120</td><td>229</td><td>0</td><td>2</td><td>129</td><td>1</td><td>1</td></tr>\n",
       "\t<tr><td>37</td><td>1</td><td>3</td><td>130</td><td>250</td><td>0</td><td>0</td><td>187</td><td>0</td><td>0</td></tr>\n",
       "\t<tr><td>41</td><td>0</td><td>2</td><td>130</td><td>204</td><td>0</td><td>2</td><td>172</td><td>0</td><td>0</td></tr>\n",
       "\t<tr><td>56</td><td>1</td><td>2</td><td>120</td><td>236</td><td>0</td><td>0</td><td>178</td><td>0</td><td>0</td></tr>\n",
       "</tbody>\n",
       "</table>\n"
      ],
      "text/latex": [
       "A tibble: 6 × 10\n",
       "\\begin{tabular}{llllllllll}\n",
       " age & sex & chest\\_pain\\_type & resting\\_bp & cholestrol & fasting\\_blood\\_sugar & rest\\_ecg & max\\_heart\\_rate & exercise\\_angina & hd\\_diagnosis\\\\\n",
       " <dbl> & <dbl> & <dbl> & <dbl> & <dbl> & <dbl> & <dbl> & <dbl> & <dbl> & <dbl>\\\\\n",
       "\\hline\n",
       "\t 63 & 1 & 1 & 145 & 233 & 1 & 2 & 150 & 0 & 0\\\\\n",
       "\t 67 & 1 & 4 & 160 & 286 & 0 & 2 & 108 & 1 & 2\\\\\n",
       "\t 67 & 1 & 4 & 120 & 229 & 0 & 2 & 129 & 1 & 1\\\\\n",
       "\t 37 & 1 & 3 & 130 & 250 & 0 & 0 & 187 & 0 & 0\\\\\n",
       "\t 41 & 0 & 2 & 130 & 204 & 0 & 2 & 172 & 0 & 0\\\\\n",
       "\t 56 & 1 & 2 & 120 & 236 & 0 & 0 & 178 & 0 & 0\\\\\n",
       "\\end{tabular}\n"
      ],
      "text/markdown": [
       "\n",
       "A tibble: 6 × 10\n",
       "\n",
       "| age &lt;dbl&gt; | sex &lt;dbl&gt; | chest_pain_type &lt;dbl&gt; | resting_bp &lt;dbl&gt; | cholestrol &lt;dbl&gt; | fasting_blood_sugar &lt;dbl&gt; | rest_ecg &lt;dbl&gt; | max_heart_rate &lt;dbl&gt; | exercise_angina &lt;dbl&gt; | hd_diagnosis &lt;dbl&gt; |\n",
       "|---|---|---|---|---|---|---|---|---|---|\n",
       "| 63 | 1 | 1 | 145 | 233 | 1 | 2 | 150 | 0 | 0 |\n",
       "| 67 | 1 | 4 | 160 | 286 | 0 | 2 | 108 | 1 | 2 |\n",
       "| 67 | 1 | 4 | 120 | 229 | 0 | 2 | 129 | 1 | 1 |\n",
       "| 37 | 1 | 3 | 130 | 250 | 0 | 0 | 187 | 0 | 0 |\n",
       "| 41 | 0 | 2 | 130 | 204 | 0 | 2 | 172 | 0 | 0 |\n",
       "| 56 | 1 | 2 | 120 | 236 | 0 | 0 | 178 | 0 | 0 |\n",
       "\n"
      ],
      "text/plain": [
       "  age sex chest_pain_type resting_bp cholestrol fasting_blood_sugar rest_ecg\n",
       "1 63  1   1               145        233        1                   2       \n",
       "2 67  1   4               160        286        0                   2       \n",
       "3 67  1   4               120        229        0                   2       \n",
       "4 37  1   3               130        250        0                   0       \n",
       "5 41  0   2               130        204        0                   2       \n",
       "6 56  1   2               120        236        0                   0       \n",
       "  max_heart_rate exercise_angina hd_diagnosis\n",
       "1 150            0               0           \n",
       "2 108            1               2           \n",
       "3 129            1               1           \n",
       "4 187            0               0           \n",
       "5 172            0               0           \n",
       "6 178            0               0           "
      ]
     },
     "metadata": {},
     "output_type": "display_data"
    }
   ],
   "source": [
    "# renaming the columns to their variable titles\n",
    "colnames(data)[1] <- \"age\"\n",
    "colnames(data)[2] <- \"sex\"\n",
    "colnames(data)[3] <- \"chest_pain_type\"\n",
    "colnames(data)[4] <- \"resting_bp\"\n",
    "colnames(data)[5] <- \"cholestrol\"\n",
    "colnames(data)[6] <- \"fasting_blood_sugar\"\n",
    "colnames(data)[7] <- \"rest_ecg\"\n",
    "colnames(data)[8] <- \"max_heart_rate\"\n",
    "colnames(data)[9] <- \"exercise_angina\"\n",
    "colnames(data)[14] <- \"hd_diagnosis\"\n",
    "\n",
    "# selecting variables that are of interest to our investigation\n",
    "data <- select(data, \n",
    "                     age,\n",
    "                     sex,\n",
    "                     chest_pain_type,\n",
    "                     resting_bp,\n",
    "                     cholestrol,\n",
    "                     fasting_blood_sugar, \n",
    "                     rest_ecg,\n",
    "                     max_heart_rate,\n",
    "                     exercise_angina,\n",
    "                     hd_diagnosis)\n",
    "\n",
    "head(data)"
   ]
  },
  {
   "cell_type": "markdown",
   "id": "f778dc5f-19c6-4724-ac42-07e542bb626c",
   "metadata": {},
   "source": [
    "**Set Seed (will not be changed nor shown after this)**"
   ]
  },
  {
   "cell_type": "code",
   "execution_count": 4,
   "id": "303e6b83-3034-4cbb-9086-d39df2fc5157",
   "metadata": {},
   "outputs": [],
   "source": [
    "set.seed(2000) ### DO NOT CHANGE!"
   ]
  },
  {
   "cell_type": "markdown",
   "id": "ad4214d5-9c81-435a-816b-29d196b55976",
   "metadata": {},
   "source": [
    "**Split our dataset to Training and Testing data**"
   ]
  },
  {
   "cell_type": "code",
   "execution_count": 5,
   "id": "b71e6f02-599a-4889-8642-fec9b7330d09",
   "metadata": {},
   "outputs": [
    {
     "data": {
      "text/plain": [
       "<Training/Testing/Total>\n",
       "<227/76/303>"
      ]
     },
     "metadata": {},
     "output_type": "display_data"
    }
   ],
   "source": [
    "cleveland_split <- initial_split(data, prop=0.75, stata=resting_bp)\n",
    "cleveland_training <- training(cleveland_split)\n",
    "cleveland_testing <- testing(cleveland_split)\n",
    "cleveland_split"
   ]
  },
  {
   "cell_type": "code",
   "execution_count": 6,
   "id": "04fa5449-dd77-4494-bbd8-2cd28c6394a1",
   "metadata": {},
   "outputs": [
    {
     "data": {
      "text/html": [
       "'Number of null values: 0'"
      ],
      "text/latex": [
       "'Number of null values: 0'"
      ],
      "text/markdown": [
       "'Number of null values: 0'"
      ],
      "text/plain": [
       "[1] \"Number of null values: 0\""
      ]
     },
     "metadata": {},
     "output_type": "display_data"
    },
    {
     "data": {
      "text/html": [
       "'Number of N/A values: 0'"
      ],
      "text/latex": [
       "'Number of N/A values: 0'"
      ],
      "text/markdown": [
       "'Number of N/A values: 0'"
      ],
      "text/plain": [
       "[1] \"Number of N/A values: 0\""
      ]
     },
     "metadata": {},
     "output_type": "display_data"
    }
   ],
   "source": [
    "#checking for null/na data in the training data\n",
    "paste(\"Number of null values:\", sum(map_df(cleveland_training, is.null)))\n",
    "paste(\"Number of N/A values:\", sum(map_df(cleveland_training, is.na)))"
   ]
  },
  {
   "cell_type": "markdown",
   "id": "59bb4302-a84c-401d-82e7-49125ed7277f",
   "metadata": {},
   "source": [
    "**Initial Assessment**"
   ]
  },
  {
   "cell_type": "code",
   "execution_count": 7,
   "id": "0b860def-557a-48c3-a351-ad59d0642156",
   "metadata": {},
   "outputs": [
    {
     "data": {
      "image/png": "[encoded data removed]",
      "text/plain": [
       "plot without title"
      ]
     },
     "metadata": {
      "image/png": {
       "height": 1200,
       "width": 420
      }
     },
     "output_type": "display_data"
    }
   ],
   "source": [
    "options(repr.plot.width = 7, repr.plot.height = 20)\n",
    "\n",
    "heart <- tibble()\n",
    "\n",
    "chol_rbp_plot <- cleveland_training |>\n",
    "    ggplot(aes(x=cholestrol, y=resting_bp)) +\n",
    "    geom_point() +\n",
    "    labs(x=\"Cholestrol Level (mg/dL)\", y=\"Resting Blood Pressure (mmHg)\") + \n",
    "    theme(text = element_text(size=20))\n",
    "\n",
    "\n",
    "chol_age_plot <- cleveland_training |>\n",
    "    ggplot(aes(x = age, y = cholestrol)) +\n",
    "    geom_point() +\n",
    "    labs(x = \"Age\", y = \"Cholestrol Level (mg/dL)\") + \n",
    "    theme(text = element_text(size=20))\n",
    "\n",
    "\n",
    "age_rbp_plot <- cleveland_training |>\n",
    "    ggplot(aes(x = age, y = resting_bp)) +\n",
    "    geom_point() +\n",
    "    labs(x = \"Age\", y = \"Resting Blood Pressure (mmHg)\") + \n",
    "    theme(text = element_text(size=20))\n",
    "\n",
    "\n",
    "initial_plots <- plot_grid(chol_rbp_plot, chol_age_plot, age_rbp_plot, ncol = 1)\n",
    "initial_plots"
   ]
  },
  {
   "cell_type": "markdown",
   "id": "01617339-c514-4682-b68d-07fefd2ac530",
   "metadata": {},
   "source": [
    "Initial analysis and assessment here"
   ]
  },
  {
   "cell_type": "markdown",
   "id": "7179ee37-6102-4e56-bba6-18cf450bb38a",
   "metadata": {},
   "source": [
    "**Model Specification**"
   ]
  },
  {
   "cell_type": "code",
   "execution_count": 8,
   "id": "bb011c19-ee0c-47eb-9dca-39e04b14370f",
   "metadata": {},
   "outputs": [
    {
     "data": {
      "text/plain": [
       "K-Nearest Neighbor Model Specification (regression)\n",
       "\n",
       "Main Arguments:\n",
       "  neighbors = tune()\n",
       "  weight_func = rectangular\n",
       "\n",
       "Computational engine: kknn \n"
      ]
     },
     "metadata": {},
     "output_type": "display_data"
    },
    {
     "data": {
      "text/plain": [
       "Recipe\n",
       "\n",
       "Inputs:\n",
       "\n",
       "      role #variables\n",
       "   outcome          1\n",
       " predictor          2\n",
       "\n",
       "Training data contained 227 data points and no missing data.\n",
       "\n",
       "Operations:\n",
       "\n",
       "Scaling for cholestrol, age [trained]\n",
       "Centering for cholestrol, age [trained]"
      ]
     },
     "metadata": {},
     "output_type": "display_data"
    },
    {
     "data": {
      "text/html": [
       "<table class=\"dataframe\">\n",
       "<caption>A tibble: 6 × 3</caption>\n",
       "<thead>\n",
       "\t<tr><th scope=col>cholestrol</th><th scope=col>age</th><th scope=col>resting_bp</th></tr>\n",
       "\t<tr><th scope=col>&lt;dbl&gt;</th><th scope=col>&lt;dbl&gt;</th><th scope=col>&lt;dbl&gt;</th></tr>\n",
       "</thead>\n",
       "<tbody>\n",
       "\t<tr><td> 1.4371897</td><td>-0.2537332</td><td>120</td></tr>\n",
       "\t<tr><td>-1.1366762</td><td> 0.1893240</td><td>132</td></tr>\n",
       "\t<tr><td>-1.4470005</td><td>-1.5829050</td><td>110</td></tr>\n",
       "\t<tr><td> 0.7982868</td><td>-1.1398477</td><td>112</td></tr>\n",
       "\t<tr><td>-0.8628607</td><td>-0.2537332</td><td>172</td></tr>\n",
       "\t<tr><td>-0.2239578</td><td> 1.6292601</td><td>160</td></tr>\n",
       "</tbody>\n",
       "</table>\n"
      ],
      "text/latex": [
       "A tibble: 6 × 3\n",
       "\\begin{tabular}{lll}\n",
       " cholestrol & age & resting\\_bp\\\\\n",
       " <dbl> & <dbl> & <dbl>\\\\\n",
       "\\hline\n",
       "\t  1.4371897 & -0.2537332 & 120\\\\\n",
       "\t -1.1366762 &  0.1893240 & 132\\\\\n",
       "\t -1.4470005 & -1.5829050 & 110\\\\\n",
       "\t  0.7982868 & -1.1398477 & 112\\\\\n",
       "\t -0.8628607 & -0.2537332 & 172\\\\\n",
       "\t -0.2239578 &  1.6292601 & 160\\\\\n",
       "\\end{tabular}\n"
      ],
      "text/markdown": [
       "\n",
       "A tibble: 6 × 3\n",
       "\n",
       "| cholestrol &lt;dbl&gt; | age &lt;dbl&gt; | resting_bp &lt;dbl&gt; |\n",
       "|---|---|---|\n",
       "|  1.4371897 | -0.2537332 | 120 |\n",
       "| -1.1366762 |  0.1893240 | 132 |\n",
       "| -1.4470005 | -1.5829050 | 110 |\n",
       "|  0.7982868 | -1.1398477 | 112 |\n",
       "| -0.8628607 | -0.2537332 | 172 |\n",
       "| -0.2239578 |  1.6292601 | 160 |\n",
       "\n"
      ],
      "text/plain": [
       "  cholestrol age        resting_bp\n",
       "1  1.4371897 -0.2537332 120       \n",
       "2 -1.1366762  0.1893240 132       \n",
       "3 -1.4470005 -1.5829050 110       \n",
       "4  0.7982868 -1.1398477 112       \n",
       "5 -0.8628607 -0.2537332 172       \n",
       "6 -0.2239578  1.6292601 160       "
      ]
     },
     "metadata": {},
     "output_type": "display_data"
    }
   ],
   "source": [
    "# Creating model specification for k-nn\n",
    "heart_spec <- nearest_neighbor(weight_func = \"rectangular\", neighbors = tune()) |> \n",
    "                       set_engine(\"kknn\") |>\n",
    "                       set_mode(\"regression\")\n",
    "heart_spec\n",
    "\n",
    "#Preprocessing the data \n",
    "heart_recipe <- recipe(resting_bp ~ cholestrol + age, data = cleveland_training) |>\n",
    "                        step_scale(all_predictors()) |>\n",
    "                        step_center(all_predictors()) |>\n",
    "                        prep()\n",
    "heart_recipe\n",
    "\n",
    "# Inspecting the preprocessing steps\n",
    "scaled_heart <- bake(heart_recipe, cleveland_training)\n",
    "\n",
    "head(scaled_heart)"
   ]
  },
  {
   "cell_type": "markdown",
   "id": "5fdbf328-b21f-4e05-9751-abb16b9c77fe",
   "metadata": {},
   "source": [
    "comment"
   ]
  },
  {
   "cell_type": "markdown",
   "id": "029a31c1-92a7-4a7e-872f-c4cabae765ad",
   "metadata": {},
   "source": [
    "**Cross-Validation of Training Data with 5 folds**"
   ]
  },
  {
   "cell_type": "code",
   "execution_count": 9,
   "id": "9675fc34-8ade-4e93-bc7e-cc7d14797c57",
   "metadata": {},
   "outputs": [
    {
     "data": {
      "text/plain": [
       "══ Workflow ════════════════════════════════════════════════════════════════════\n",
       "\u001b[3mPreprocessor:\u001b[23m Recipe\n",
       "\u001b[3mModel:\u001b[23m nearest_neighbor()\n",
       "\n",
       "── Preprocessor ────────────────────────────────────────────────────────────────\n",
       "2 Recipe Steps\n",
       "\n",
       "• step_scale()\n",
       "• step_center()\n",
       "\n",
       "── Model ───────────────────────────────────────────────────────────────────────\n",
       "K-Nearest Neighbor Model Specification (regression)\n",
       "\n",
       "Main Arguments:\n",
       "  neighbors = tune()\n",
       "  weight_func = rectangular\n",
       "\n",
       "Computational engine: kknn \n"
      ]
     },
     "metadata": {},
     "output_type": "display_data"
    }
   ],
   "source": [
    "# 5 fold cross validation\n",
    "heart_vfold <- vfold_cv(cleveland_training, v = 5, strata = resting_bp)\n",
    "\n",
    "\n",
    "# Combining model specification and recipe\n",
    "heart_workflow <- workflow() |>\n",
    "                        add_recipe(heart_recipe) |>\n",
    "                        add_model(heart_spec)\n",
    "\n",
    "heart_workflow"
   ]
  },
  {
   "cell_type": "markdown",
   "id": "af3c7c11-d557-412d-b7a5-24ba1d8e2eef",
   "metadata": {},
   "source": [
    "comment"
   ]
  },
  {
   "cell_type": "markdown",
   "id": "5896e728-fbc2-43bb-a0a1-5d5af5c33111",
   "metadata": {},
   "source": [
    "**Tuning the Workflow**"
   ]
  },
  {
   "cell_type": "code",
   "execution_count": 30,
   "id": "6cc7f7a4-07b3-4d6a-a0e6-0bd8f3a8bd2e",
   "metadata": {},
   "outputs": [
    {
     "data": {
      "text/html": [
       "<table class=\"dataframe\">\n",
       "<caption>A tibble: 6 × 7</caption>\n",
       "<thead>\n",
       "\t<tr><th scope=col>neighbors</th><th scope=col>.metric</th><th scope=col>.estimator</th><th scope=col>mean</th><th scope=col>n</th><th scope=col>std_err</th><th scope=col>.config</th></tr>\n",
       "\t<tr><th scope=col>&lt;int&gt;</th><th scope=col>&lt;chr&gt;</th><th scope=col>&lt;chr&gt;</th><th scope=col>&lt;dbl&gt;</th><th scope=col>&lt;int&gt;</th><th scope=col>&lt;dbl&gt;</th><th scope=col>&lt;chr&gt;</th></tr>\n",
       "</thead>\n",
       "<tbody>\n",
       "\t<tr><td>1</td><td>rmse</td><td>standard</td><td>22.85661</td><td>5</td><td>1.2454229</td><td>Preprocessor1_Model001</td></tr>\n",
       "\t<tr><td>2</td><td>rmse</td><td>standard</td><td>20.26165</td><td>5</td><td>0.9356235</td><td>Preprocessor1_Model002</td></tr>\n",
       "\t<tr><td>3</td><td>rmse</td><td>standard</td><td>18.84313</td><td>5</td><td>0.6965354</td><td>Preprocessor1_Model003</td></tr>\n",
       "\t<tr><td>4</td><td>rmse</td><td>standard</td><td>18.38105</td><td>5</td><td>0.5477692</td><td>Preprocessor1_Model004</td></tr>\n",
       "\t<tr><td>5</td><td>rmse</td><td>standard</td><td>17.95976</td><td>5</td><td>0.4807513</td><td>Preprocessor1_Model005</td></tr>\n",
       "\t<tr><td>6</td><td>rmse</td><td>standard</td><td>17.58085</td><td>5</td><td>0.5175398</td><td>Preprocessor1_Model006</td></tr>\n",
       "</tbody>\n",
       "</table>\n"
      ],
      "text/latex": [
       "A tibble: 6 × 7\n",
       "\\begin{tabular}{lllllll}\n",
       " neighbors & .metric & .estimator & mean & n & std\\_err & .config\\\\\n",
       " <int> & <chr> & <chr> & <dbl> & <int> & <dbl> & <chr>\\\\\n",
       "\\hline\n",
       "\t 1 & rmse & standard & 22.85661 & 5 & 1.2454229 & Preprocessor1\\_Model001\\\\\n",
       "\t 2 & rmse & standard & 20.26165 & 5 & 0.9356235 & Preprocessor1\\_Model002\\\\\n",
       "\t 3 & rmse & standard & 18.84313 & 5 & 0.6965354 & Preprocessor1\\_Model003\\\\\n",
       "\t 4 & rmse & standard & 18.38105 & 5 & 0.5477692 & Preprocessor1\\_Model004\\\\\n",
       "\t 5 & rmse & standard & 17.95976 & 5 & 0.4807513 & Preprocessor1\\_Model005\\\\\n",
       "\t 6 & rmse & standard & 17.58085 & 5 & 0.5175398 & Preprocessor1\\_Model006\\\\\n",
       "\\end{tabular}\n"
      ],
      "text/markdown": [
       "\n",
       "A tibble: 6 × 7\n",
       "\n",
       "| neighbors &lt;int&gt; | .metric &lt;chr&gt; | .estimator &lt;chr&gt; | mean &lt;dbl&gt; | n &lt;int&gt; | std_err &lt;dbl&gt; | .config &lt;chr&gt; |\n",
       "|---|---|---|---|---|---|---|\n",
       "| 1 | rmse | standard | 22.85661 | 5 | 1.2454229 | Preprocessor1_Model001 |\n",
       "| 2 | rmse | standard | 20.26165 | 5 | 0.9356235 | Preprocessor1_Model002 |\n",
       "| 3 | rmse | standard | 18.84313 | 5 | 0.6965354 | Preprocessor1_Model003 |\n",
       "| 4 | rmse | standard | 18.38105 | 5 | 0.5477692 | Preprocessor1_Model004 |\n",
       "| 5 | rmse | standard | 17.95976 | 5 | 0.4807513 | Preprocessor1_Model005 |\n",
       "| 6 | rmse | standard | 17.58085 | 5 | 0.5175398 | Preprocessor1_Model006 |\n",
       "\n"
      ],
      "text/plain": [
       "  neighbors .metric .estimator mean     n std_err   .config               \n",
       "1 1         rmse    standard   22.85661 5 1.2454229 Preprocessor1_Model001\n",
       "2 2         rmse    standard   20.26165 5 0.9356235 Preprocessor1_Model002\n",
       "3 3         rmse    standard   18.84313 5 0.6965354 Preprocessor1_Model003\n",
       "4 4         rmse    standard   18.38105 5 0.5477692 Preprocessor1_Model004\n",
       "5 5         rmse    standard   17.95976 5 0.4807513 Preprocessor1_Model005\n",
       "6 6         rmse    standard   17.58085 5 0.5175398 Preprocessor1_Model006"
      ]
     },
     "metadata": {},
     "output_type": "display_data"
    }
   ],
   "source": [
    "#Creating a tibble of number of neighbors\n",
    "gridvalues <- tibble(neighbors = seq(from = 1, to = 150))\n",
    "\n",
    "heart_results <-heart_workflow |>\n",
    "  tune_grid(resamples =heart_vfold, grid = gridvalues) |>\n",
    "  collect_metrics() |>\n",
    "  filter(.metric == \"rmse\")\n",
    "\n",
    "head(heart_results)\n"
   ]
  },
  {
   "cell_type": "markdown",
   "id": "aedabccd-b52b-4869-a368-261739db67cd",
   "metadata": {},
   "source": [
    "comment"
   ]
  },
  {
   "cell_type": "markdown",
   "id": "aadb2047-b442-476a-8597-2ca091855913",
   "metadata": {},
   "source": [
    "**Determining the Minimum RMSPE**"
   ]
  },
  {
   "cell_type": "code",
   "execution_count": 31,
   "id": "4185cdef-481c-4a52-b35f-b1076e3a1a6b",
   "metadata": {},
   "outputs": [
    {
     "data": {
      "text/html": [
       "<table class=\"dataframe\">\n",
       "<caption>A tibble: 1 × 7</caption>\n",
       "<thead>\n",
       "\t<tr><th scope=col>neighbors</th><th scope=col>.metric</th><th scope=col>.estimator</th><th scope=col>mean</th><th scope=col>n</th><th scope=col>std_err</th><th scope=col>.config</th></tr>\n",
       "\t<tr><th scope=col>&lt;int&gt;</th><th scope=col>&lt;chr&gt;</th><th scope=col>&lt;chr&gt;</th><th scope=col>&lt;dbl&gt;</th><th scope=col>&lt;int&gt;</th><th scope=col>&lt;dbl&gt;</th><th scope=col>&lt;chr&gt;</th></tr>\n",
       "</thead>\n",
       "<tbody>\n",
       "\t<tr><td>61</td><td>rmse</td><td>standard</td><td>16.90899</td><td>5</td><td>0.391118</td><td>Preprocessor1_Model061</td></tr>\n",
       "</tbody>\n",
       "</table>\n"
      ],
      "text/latex": [
       "A tibble: 1 × 7\n",
       "\\begin{tabular}{lllllll}\n",
       " neighbors & .metric & .estimator & mean & n & std\\_err & .config\\\\\n",
       " <int> & <chr> & <chr> & <dbl> & <int> & <dbl> & <chr>\\\\\n",
       "\\hline\n",
       "\t 61 & rmse & standard & 16.90899 & 5 & 0.391118 & Preprocessor1\\_Model061\\\\\n",
       "\\end{tabular}\n"
      ],
      "text/markdown": [
       "\n",
       "A tibble: 1 × 7\n",
       "\n",
       "| neighbors &lt;int&gt; | .metric &lt;chr&gt; | .estimator &lt;chr&gt; | mean &lt;dbl&gt; | n &lt;int&gt; | std_err &lt;dbl&gt; | .config &lt;chr&gt; |\n",
       "|---|---|---|---|---|---|---|\n",
       "| 61 | rmse | standard | 16.90899 | 5 | 0.391118 | Preprocessor1_Model061 |\n",
       "\n"
      ],
      "text/plain": [
       "  neighbors .metric .estimator mean     n std_err  .config               \n",
       "1 61        rmse    standard   16.90899 5 0.391118 Preprocessor1_Model061"
      ]
     },
     "metadata": {},
     "output_type": "display_data"
    },
    {
     "data": {
      "text/html": [
       "61"
      ],
      "text/latex": [
       "61"
      ],
      "text/markdown": [
       "61"
      ],
      "text/plain": [
       "[1] 61"
      ]
     },
     "metadata": {},
     "output_type": "display_data"
    }
   ],
   "source": [
    "#CODE HERE\n",
    "\n",
    "heart_min <- heart_results |>\n",
    "            filter(mean == min(mean)) |>\n",
    "            slice(1)\n",
    "\n",
    "heart_min\n",
    "\n",
    "heart_k <- heart_min |>\n",
    "             pull(neighbors)\n",
    "\n",
    "heart_k"
   ]
  },
  {
   "cell_type": "markdown",
   "id": "553fc2a7-3994-4dce-ba97-9b7069bd2ac6",
   "metadata": {},
   "source": [
    "comment"
   ]
  },
  {
   "cell_type": "markdown",
   "id": "c6daf10f-3424-432e-837c-6d1d2328d258",
   "metadata": {},
   "source": [
    "**Evaluating on our Testing Dataset**"
   ]
  },
  {
   "cell_type": "code",
   "execution_count": 33,
   "id": "41ab89a8-15f0-4634-8f7a-8096615232e7",
   "metadata": {},
   "outputs": [
    {
     "data": {
      "text/html": [
       "<table class=\"dataframe\">\n",
       "<caption>A tibble: 1 × 3</caption>\n",
       "<thead>\n",
       "\t<tr><th scope=col>.metric</th><th scope=col>.estimator</th><th scope=col>.estimate</th></tr>\n",
       "\t<tr><th scope=col>&lt;chr&gt;</th><th scope=col>&lt;chr&gt;</th><th scope=col>&lt;dbl&gt;</th></tr>\n",
       "</thead>\n",
       "<tbody>\n",
       "\t<tr><td>rmse</td><td>standard</td><td>16.62258</td></tr>\n",
       "</tbody>\n",
       "</table>\n"
      ],
      "text/latex": [
       "A tibble: 1 × 3\n",
       "\\begin{tabular}{lll}\n",
       " .metric & .estimator & .estimate\\\\\n",
       " <chr> & <chr> & <dbl>\\\\\n",
       "\\hline\n",
       "\t rmse & standard & 16.62258\\\\\n",
       "\\end{tabular}\n"
      ],
      "text/markdown": [
       "\n",
       "A tibble: 1 × 3\n",
       "\n",
       "| .metric &lt;chr&gt; | .estimator &lt;chr&gt; | .estimate &lt;dbl&gt; |\n",
       "|---|---|---|\n",
       "| rmse | standard | 16.62258 |\n",
       "\n"
      ],
      "text/plain": [
       "  .metric .estimator .estimate\n",
       "1 rmse    standard   16.62258 "
      ]
     },
     "metadata": {},
     "output_type": "display_data"
    }
   ],
   "source": [
    "#Creating new spec with minimum k\n",
    "heart_spec2 <- nearest_neighbor(weight_func = \"rectangular\", \n",
    "                                neighbors = heart_k) |>\n",
    "                  set_engine(\"kknn\") |>\n",
    "                  set_mode(\"regression\")\n",
    "\n",
    "knn_mult_fit <- workflow() |>\n",
    "  add_recipe(heart_recipe) |>\n",
    "  add_model(heart_spec2) |>\n",
    "  fit(data = cleveland_training)\n",
    "\n",
    "knn_mult_preds <- knn_mult_fit |>\n",
    "  predict(cleveland_testing) |>\n",
    "  bind_cols(cleveland_testing)\n",
    "\n",
    "knn_mult_mets <- metrics(knn_mult_preds, truth = resting_bp, estimate = .pred) |>\n",
    "                     filter(.metric == 'rmse')\n",
    "\n",
    "knn_mult_mets"
   ]
  },
  {
   "cell_type": "markdown",
   "id": "1d133e9a-2471-483c-aece-69230a9a7d83",
   "metadata": {},
   "source": [
    "comment"
   ]
  },
  {
   "cell_type": "markdown",
   "id": "5821e81a-197c-412e-a0fc-2898bac644d8",
   "metadata": {},
   "source": [
    "# Results"
   ]
  },
  {
   "cell_type": "code",
   "execution_count": 15,
   "id": "2e571d8c-57c3-47ec-846d-4035d395614c",
   "metadata": {},
   "outputs": [],
   "source": [
    "#CODE HERE (plot our final graph?) "
   ]
  },
  {
   "cell_type": "code",
   "execution_count": 16,
   "id": "f31104ee-f4f8-48a7-b853-dbbe49e1feba",
   "metadata": {},
   "outputs": [
    {
     "ename": "ERROR",
     "evalue": "Error in parse(text = x, srcfile = src): <text>:1:9: unexpected symbol\n1: results briefly\n            ^\n",
     "output_type": "error",
     "traceback": [
      "Error in parse(text = x, srcfile = src): <text>:1:9: unexpected symbol\n1: results briefly\n            ^\nTraceback:\n"
     ]
    }
   ],
   "source": [
    "results briefly explained"
   ]
  },
  {
   "cell_type": "markdown",
   "id": "6c6dc083-4821-4ff5-ab15-824207daacc6",
   "metadata": {},
   "source": [
    "# Discussion"
   ]
  },
  {
   "cell_type": "markdown",
   "id": "02808e77-e741-4bb3-b106-703e247157b9",
   "metadata": {},
   "source": [
    "explanation"
   ]
  }
 ],
 "metadata": {
  "kernelspec": {
   "display_name": "R",
   "language": "R",
   "name": "ir"
  },
  "language_info": {
   "codemirror_mode": "r",
   "file_extension": ".r",
   "mimetype": "text/x-r-source",
   "name": "R",
   "pygments_lexer": "r",
   "version": "4.1.3"
  }
 },
 "nbformat": 4,
 "nbformat_minor": 5
}
